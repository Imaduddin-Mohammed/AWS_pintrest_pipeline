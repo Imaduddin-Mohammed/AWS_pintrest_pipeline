{
 "cells": [
  {
   "cell_type": "code",
   "execution_count": 1,
   "metadata": {},
   "outputs": [],
   "source": [
    "import requests\n",
    "from time import sleep\n",
    "import random\n",
    "from multiprocessing import Process\n",
    "import boto3\n",
    "import json\n",
    "import sqlalchemy\n",
    "from sqlalchemy import text\n",
    "import yaml\n",
    "\n",
    "\n",
    "random.seed(100)"
   ]
  },
  {
   "cell_type": "code",
   "execution_count": 2,
   "metadata": {},
   "outputs": [],
   "source": [
    "class AWSDBConnector:\n",
    "    \n",
    "    def read_cred(self, filepath):\n",
    "            with open (filepath, 'r') as file:\n",
    "                db_cred = yaml.safe_load(file)\n",
    "                return db_cred\n",
    "        \n",
    "    def create_db_connector(self, credentials):\n",
    "        engine = sqlalchemy.create_engine(f\"mysql+pymysql://{credentials['USER']}:{credentials['PASSWORD']}@{credentials['HOST']}:{credentials['PORT']}/{credentials['DATABASE']}?charset=utf8mb4\")\n",
    "        return engine"
   ]
  },
  {
   "cell_type": "code",
   "execution_count": 4,
   "metadata": {},
   "outputs": [
    {
     "name": "stdout",
     "output_type": "stream",
     "text": [
      "<class 'sqlalchemy.engine.base.Engine'>\n",
      "{'HOST': 'pinterestdbreadonly.cq2e8zno855e.eu-west-1.rds.amazonaws.com', 'USER': 'project_user', 'PASSWORD': ':t%;yCY3Yjg', 'DATABASE': 'pinterest_data', 'PORT': 3306}\n"
     ]
    }
   ],
   "source": [
    "cred_path = 'db_creds.yaml'\n",
    "new_connector = AWSDBConnector()\n",
    "creds = new_connector.read_cred(filepath=cred_path)\n",
    "engine = new_connector.create_db_connector(credentials=creds)\n",
    "print(type(engine))\n",
    "print(creds)"
   ]
  },
  {
   "cell_type": "code",
   "execution_count": 18,
   "metadata": {},
   "outputs": [],
   "source": [
    "def run_infinite_post_data_loop(credentials):\n",
    "    while True:\n",
    "    \n",
    "        sleep(random.randrange(0, 2))\n",
    "        random_row = random.randint(0, 11000)\n",
    "        engine = new_connector.create_db_connector(credentials)\n",
    "\n",
    "        #context manager \n",
    "        with engine.connect() as connection:\n",
    "\n",
    "            pin_string = text(f\"SELECT * FROM pinterest_data LIMIT {random_row}, 1\")\n",
    "            pin_selected_row = connection.execute(pin_string)\n",
    "            \n",
    "            for row in pin_selected_row:\n",
    "                pin_result = dict(row._mapping)\n",
    "\n",
    "            geo_string = text(f\"SELECT * FROM geolocation_data LIMIT {random_row}, 1\")\n",
    "            geo_selected_row = connection.execute(geo_string)\n",
    "            \n",
    "            for row in geo_selected_row:\n",
    "                geo_result = dict(row._mapping)\n",
    "\n",
    "            user_string = text(f\"SELECT * FROM user_data LIMIT {random_row}, 1\")\n",
    "            user_selected_row = connection.execute(user_string)\n",
    "            \n",
    "            for row in user_selected_row:\n",
    "                user_result = dict(row._mapping)\n",
    "            \n",
    "            print(pin_result)\n",
    "            print(geo_result)\n",
    "            print(user_result)"
   ]
  },
  {
   "cell_type": "code",
   "execution_count": 19,
   "metadata": {},
   "outputs": [
    {
     "name": "stdout",
     "output_type": "stream",
     "text": [
      "{'ind': 1706, 'first_name': 'Amy', 'last_name': 'Adams', 'age': 20, 'date_joined': datetime.datetime(2015, 10, 24, 5, 5, 28)}\n",
      "{'ind': 5293, 'first_name': 'David', 'last_name': 'Taylor', 'age': 36, 'date_joined': datetime.datetime(2016, 6, 3, 23, 53, 50)}\n",
      "{'ind': 7733, 'first_name': 'Aaron', 'last_name': 'Abbott', 'age': 20, 'date_joined': datetime.datetime(2015, 10, 23, 16, 8, 41)}\n",
      "{'ind': 3716, 'first_name': 'Catherine', 'last_name': 'Ferrell', 'age': 21, 'date_joined': datetime.datetime(2017, 1, 2, 3, 1, 9)}\n",
      "{'ind': 3750, 'first_name': 'Gary', 'last_name': 'Barker', 'age': 28, 'date_joined': datetime.datetime(2015, 11, 26, 11, 23, 50)}\n",
      "{'ind': 232, 'first_name': 'Sarah', 'last_name': 'Buchanan', 'age': 33, 'date_joined': datetime.datetime(2017, 4, 19, 8, 49, 40)}\n",
      "{'ind': 8300, 'first_name': 'Nathan', 'last_name': 'Stanton', 'age': 51, 'date_joined': datetime.datetime(2017, 8, 14, 8, 26, 30)}\n",
      "{'ind': 8978, 'first_name': 'Mark', 'last_name': 'Jones', 'age': 34, 'date_joined': datetime.datetime(2017, 8, 22, 0, 1, 29)}\n",
      "{'ind': 2048, 'first_name': 'Ann', 'last_name': 'Chung', 'age': 22, 'date_joined': datetime.datetime(2015, 11, 18, 23, 11, 15)}\n",
      "{'ind': 10337, 'first_name': 'Carrie', 'last_name': 'Parker', 'age': 46, 'date_joined': datetime.datetime(2016, 9, 11, 22, 32, 50)}\n",
      "{'ind': 7832, 'first_name': 'Samuel', 'last_name': 'Hawkins', 'age': 39, 'date_joined': datetime.datetime(2016, 6, 30, 2, 56, 6)}\n",
      "{'ind': 8366, 'first_name': 'Justin', 'last_name': 'Ewing', 'age': 56, 'date_joined': datetime.datetime(2016, 2, 4, 23, 27, 36)}\n"
     ]
    },
    {
     "ename": "KeyboardInterrupt",
     "evalue": "",
     "output_type": "error",
     "traceback": [
      "\u001b[0;31m---------------------------------------------------------------------------\u001b[0m",
      "\u001b[0;31mKeyboardInterrupt\u001b[0m                         Traceback (most recent call last)",
      "Cell \u001b[0;32mIn[19], line 1\u001b[0m\n\u001b[0;32m----> 1\u001b[0m \u001b[43mrun_infinite_post_data_loop\u001b[49m\u001b[43m(\u001b[49m\u001b[43mcreds\u001b[49m\u001b[43m)\u001b[49m\n",
      "Cell \u001b[0;32mIn[18], line 4\u001b[0m, in \u001b[0;36mrun_infinite_post_data_loop\u001b[0;34m(credentials)\u001b[0m\n\u001b[1;32m      1\u001b[0m \u001b[38;5;28;01mdef\u001b[39;00m \u001b[38;5;21mrun_infinite_post_data_loop\u001b[39m(credentials):\n\u001b[1;32m      2\u001b[0m     \u001b[38;5;28;01mwhile\u001b[39;00m \u001b[38;5;28;01mTrue\u001b[39;00m:\n\u001b[0;32m----> 4\u001b[0m         \u001b[43msleep\u001b[49m\u001b[43m(\u001b[49m\u001b[43mrandom\u001b[49m\u001b[38;5;241;43m.\u001b[39;49m\u001b[43mrandrange\u001b[49m\u001b[43m(\u001b[49m\u001b[38;5;241;43m0\u001b[39;49m\u001b[43m,\u001b[49m\u001b[43m \u001b[49m\u001b[38;5;241;43m2\u001b[39;49m\u001b[43m)\u001b[49m\u001b[43m)\u001b[49m\n\u001b[1;32m      5\u001b[0m         random_row \u001b[38;5;241m=\u001b[39m random\u001b[38;5;241m.\u001b[39mrandint(\u001b[38;5;241m0\u001b[39m, \u001b[38;5;241m11000\u001b[39m)\n\u001b[1;32m      6\u001b[0m         engine \u001b[38;5;241m=\u001b[39m new_connector\u001b[38;5;241m.\u001b[39mcreate_db_connector(credentials)\n",
      "\u001b[0;31mKeyboardInterrupt\u001b[0m: "
     ]
    }
   ],
   "source": [
    "run_infinite_post_data_loop(creds)"
   ]
  },
  {
   "cell_type": "code",
   "execution_count": null,
   "metadata": {},
   "outputs": [],
   "source": []
  },
  {
   "cell_type": "code",
   "execution_count": null,
   "metadata": {},
   "outputs": [],
   "source": []
  }
 ],
 "metadata": {
  "kernelspec": {
   "display_name": "aws_pintrest",
   "language": "python",
   "name": "python3"
  },
  "language_info": {
   "codemirror_mode": {
    "name": "ipython",
    "version": 3
   },
   "file_extension": ".py",
   "mimetype": "text/x-python",
   "name": "python",
   "nbconvert_exporter": "python",
   "pygments_lexer": "ipython3",
   "version": "3.12.4"
  }
 },
 "nbformat": 4,
 "nbformat_minor": 2
}
